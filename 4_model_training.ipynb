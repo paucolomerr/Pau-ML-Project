{
 "cells": [
  {
   "cell_type": "code",
   "execution_count": 1,
   "id": "556c132e-2d0d-4861-8f37-195e9301e90d",
   "metadata": {},
   "outputs": [],
   "source": [
    "import pandas as pd\n",
    "import matplotlib.pyplot as plt\n",
    "from sklearn import tree # importing the tree module from sklearn\n",
    "from sklearn import metrics # importing the metrics module from sklearn\n",
    "from sklearn.model_selection import train_test_split # importing the train_test_split function from sklearn's model_selection module\n",
    "import numpy as np"
   ]
  },
  {
   "cell_type": "code",
   "execution_count": 2,
   "id": "ce2236b5-bba4-486a-bcb4-67d7b570447a",
   "metadata": {},
   "outputs": [
    {
     "name": "stdout",
     "output_type": "stream",
     "text": [
      "   text_length  title_length  length_phrases_no_punctuation_text  \\\n",
      "0     0.394864      0.214286                           -0.837787   \n",
      "1    -0.590155      0.535714                           -0.478777   \n",
      "2     0.420011      0.071429                           -0.553995   \n",
      "3     2.319957     -0.035714                            0.792021   \n",
      "4    -0.022472      0.250000                           -0.278197   \n",
      "\n",
      "   length_phrases_no_punctuation_title  qtt_numbers  qtt_noms_propis  \\\n",
      "0                                  0.2        3.000            0.725   \n",
      "1                                  0.6        0.000           -0.300   \n",
      "2                                  0.2        0.000            0.000   \n",
      "3                                  0.2       -0.125            1.775   \n",
      "4                                  0.2       -0.250            0.350   \n",
      "\n",
      "   qtt_punt  stopwords  emotional  repeated  capital_title  reference_count  \\\n",
      "0  1.341463   0.279720        0.0       1.0       0.272727              0.5   \n",
      "1 -0.487805  -0.636364        1.0       0.0       0.090909              0.0   \n",
      "2  0.268293   0.566434        0.0       1.0       0.272727             -0.5   \n",
      "3  1.609756   3.258741        3.0       2.0       0.909091             -0.5   \n",
      "4 -0.048780   0.097902        0.0       0.0       0.090909             -0.5   \n",
      "\n",
      "   word_length  sentiment_polarity  subjectivity_score  avg_sentence_length  \\\n",
      "0    -0.625440           -0.543371            0.162487             0.270725   \n",
      "1     0.355361            0.718829            0.142914             1.772021   \n",
      "2    -0.197197           -0.375911            0.089924            -0.679489   \n",
      "3    -1.320885            1.218242            0.675287            -0.116494   \n",
      "4    -0.489474           -0.851814            1.204894            -0.024611   \n",
      "\n",
      "   character_count  exclamation_mark_count  question_mark_count  \\\n",
      "0         0.394864                     0.0                  2.0   \n",
      "1        -0.590155                     0.0                  0.0   \n",
      "2         0.420011                     0.0                  2.0   \n",
      "3         2.319957                     4.0                  0.0   \n",
      "4        -0.022472                     0.0                  2.0   \n",
      "\n",
      "   capitalized_word_count  \n",
      "0                  -0.250  \n",
      "1                   1.750  \n",
      "2                  -0.625  \n",
      "3                   5.500  \n",
      "4                  -0.375  \n"
     ]
    }
   ],
   "source": [
    "X = pd.read_csv('data/News_dataset/X_train_scaled.csv')\n",
    "y = pd.read_csv('data/News_dataset/y_train.csv')\n",
    "\n",
    "print(X.head())\n",
    "#convert to 1D\n",
    "y = y['label']\n",
    "\n",
    "# Convert pandas DataFrames/Series to numpy arrays\n",
    "X = X.values  # Converts the features to a numpy array\n",
    "y = y.values  # Converts the target to a numpy array\n",
    "\n",
    "# Convert 'Fake' to 0 and 'True' to 1\n",
    "y = np.where(y == 'True', 1, 0)"
   ]
  },
  {
   "cell_type": "code",
   "execution_count": 3,
   "id": "010f63fc-ab37-43ae-b072-63c5927833da",
   "metadata": {},
   "outputs": [
    {
     "data": {
      "text/plain": [
       "(40399, 20)"
      ]
     },
     "execution_count": 3,
     "metadata": {},
     "output_type": "execute_result"
    }
   ],
   "source": [
    "X.shape"
   ]
  },
  {
   "cell_type": "markdown",
   "id": "f5024271-5fe3-490f-a954-6c9b16aababe",
   "metadata": {},
   "source": [
    "### començarem amb logistic regression, dsps farem random forest and descision trees i per últim farem svm ( suport vector machine) + optional naive bayes"
   ]
  },
  {
   "cell_type": "markdown",
   "id": "c66a8668-27c9-4584-92ed-c7872edd4d33",
   "metadata": {},
   "source": [
    "# cross validation"
   ]
  },
  {
   "cell_type": "markdown",
   "id": "81bc82ad-12b4-4eb6-adac-9ec2f14dd3a5",
   "metadata": {},
   "source": [
    "### LOGISTIC REGRESSION"
   ]
  },
  {
   "cell_type": "code",
   "execution_count": 9,
   "id": "2b3f4b4f-cf21-403f-bee2-f5ed144abf3d",
   "metadata": {
    "scrolled": true
   },
   "outputs": [
    {
     "name": "stdout",
     "output_type": "stream",
     "text": [
      "Final Best Hyperparameters: {'model__C': 10, 'model__penalty': 'l1'}\n",
      "Nested CV Accuracy: 0.988 ± 0.001\n"
     ]
    }
   ],
   "source": [
    "from sklearn.model_selection import KFold, GridSearchCV, cross_val_score\n",
    "from sklearn.linear_model import LogisticRegression\n",
    "from sklearn.pipeline import Pipeline\n",
    "from sklearn.preprocessing import RobustScaler\n",
    "import numpy as np\n",
    "from collections import defaultdict\n",
    "\n",
    "# Dictionary to store the best hyperparameters from each outer fold\n",
    "params_scores = defaultdict(list)\n",
    "\n",
    "# Define the outer cross-validation (outer loop) - 5 folds\n",
    "outer_cv = KFold(n_splits=5, shuffle=True, random_state=42)\n",
    "\n",
    "# Define the inner cross-validation (inner loop) - 3 folds\n",
    "inner_cv = KFold(n_splits=3, shuffle=True, random_state=42)\n",
    "\n",
    "# Define the model and hyperparameter grid for Logistic Regression\n",
    "model = LogisticRegression(max_iter=1000, solver='liblinear')  # 'liblinear' works well for binary classification\n",
    "param_grid = {\n",
    "    'model__C': [0.01, 0.1, 1, 10, 100],  # Inverse of regularization strength\n",
    "    'model__penalty': ['l1', 'l2']        # Regularization type\n",
    "}\n",
    "\n",
    "# To store the results from the outer loop\n",
    "outer_scores = []\n",
    "\n",
    "# Outer loop: iterating through each fold of the outer cross-validation\n",
    "for train_idx, test_idx in outer_cv.split(X):\n",
    "    # Split the data into training and testing sets for the current outer fold\n",
    "    X_train, X_test = X[train_idx], X[test_idx]\n",
    "    y_train, y_test = y[train_idx], y[test_idx]\n",
    "    \n",
    "    # Create a pipeline to standardize the data and fit the logistic regression model\n",
    "    pipeline = Pipeline([\n",
    "        ('scaler', RobustScaler()), # to avoid data leakage \n",
    "        ('model', LogisticRegression(max_iter=1000, solver='liblinear'))\n",
    "    ])\n",
    "    \n",
    "    # Perform grid search within the inner loop\n",
    "    grid_search = GridSearchCV(estimator=pipeline, param_grid=param_grid, \n",
    "                               cv=inner_cv, scoring='accuracy', n_jobs=-1)\n",
    "    grid_search.fit(X_train, y_train) #SEARCH WHAT DOES GRID SEARCH\n",
    "\n",
    "    # Store the best hyperparameters and their score for this fold\n",
    "    best_params = grid_search.best_params_\n",
    "    best_score = grid_search.best_score_\n",
    "    for param, value in best_params.items():\n",
    "        params_scores[param].append(value)\n",
    "    \n",
    "    # Evaluate the best model found by GridSearchCV on the outer test set\n",
    "    best_model = grid_search.best_estimator_\n",
    "    outer_score = best_model.score(X_test, y_test)\n",
    "    outer_scores.append(outer_score)\n",
    "\n",
    "# Calculate the most frequent set of hyperparameters\n",
    "final_best_params = {}\n",
    "for param, values in params_scores.items():\n",
    "    final_best_params[param] = max(set(values), key=values.count)\n",
    "\n",
    "print(f\"Final Best Hyperparameters: {final_best_params}\")\n",
    "# Calculate the mean and standard deviation of the outer scores\n",
    "mean_score = np.mean(outer_scores)\n",
    "std_score = np.std(outer_scores)\n",
    "\n",
    "print(f\"Nested CV Accuracy: {mean_score:.3f} ± {std_score:.3f}\")\n"
   ]
  },
  {
   "cell_type": "code",
   "execution_count": 10,
   "id": "4f07dc4f-8b6f-4eb2-817d-fd85bd2bc676",
   "metadata": {
    "scrolled": true
   },
   "outputs": [
    {
     "data": {
      "text/plain": [
       "[0.9867574257425743,\n",
       " 0.988490099009901,\n",
       " 0.9889851485148515,\n",
       " 0.9889851485148515,\n",
       " 0.9886124520361431]"
      ]
     },
     "execution_count": 10,
     "metadata": {},
     "output_type": "execute_result"
    }
   ],
   "source": [
    "outer_scores"
   ]
  },
  {
   "cell_type": "code",
   "execution_count": 11,
   "id": "4c8934bb-d47d-4143-aa96-cfc71e8b24e0",
   "metadata": {},
   "outputs": [
    {
     "data": {
      "text/plain": [
       "defaultdict(list,\n",
       "            {'model__C': [10, 10, 10, 10, 100],\n",
       "             'model__penalty': ['l1', 'l2', 'l1', 'l1', 'l1']})"
      ]
     },
     "execution_count": 11,
     "metadata": {},
     "output_type": "execute_result"
    }
   ],
   "source": [
    "params_scores"
   ]
  },
  {
   "cell_type": "code",
   "execution_count": 12,
   "id": "d0a11979-b229-4a1b-a021-e2b58dc300c2",
   "metadata": {
    "scrolled": true
   },
   "outputs": [
    {
     "name": "stdout",
     "output_type": "stream",
     "text": [
      "Accuracy: 0.521\n",
      "Precision: 0.000\n",
      "Recall: 0.000\n",
      "F1 Score: 0.000\n",
      "ROC-AUC Score: 0.500\n"
     ]
    },
    {
     "name": "stderr",
     "output_type": "stream",
     "text": [
      "/Users/paucolomercoll/venv/lib/python3.13/site-packages/sklearn/metrics/_classification.py:1565: UndefinedMetricWarning: Precision is ill-defined and being set to 0.0 due to no predicted samples. Use `zero_division` parameter to control this behavior.\n",
      "  _warn_prf(average, modifier, f\"{metric.capitalize()} is\", len(result))\n"
     ]
    },
    {
     "data": {
      "text/plain": [
       "['final_logistic_regression_model.pkl']"
      ]
     },
     "execution_count": 12,
     "metadata": {},
     "output_type": "execute_result"
    }
   ],
   "source": [
    "X_test = pd.read_csv('data/News_dataset/X_test_scaled.csv')\n",
    "y_test = pd.read_csv('data/News_dataset/y_test.csv')\n",
    "\n",
    "X_test = X_test.values  # Converts the features to a numpy array\n",
    "y_test = y_test.values  # Converts the target to a numpy array\n",
    "\n",
    "# Convert 'Fake' to 0 and 'True' to 1\n",
    "y_test = np.where(y_test == 'True', 1, 0)\n",
    "\n",
    "from sklearn.metrics import (\n",
    "    accuracy_score,\n",
    "    precision_score,\n",
    "    recall_score,\n",
    "    f1_score,\n",
    "    roc_auc_score,\n",
    "    confusion_matrix\n",
    ")\n",
    "\n",
    "\n",
    "final_model = LogisticRegression(\n",
    "    max_iter=1000,\n",
    "    solver='liblinear',\n",
    "    C=final_best_params['model__C'],\n",
    "    penalty=final_best_params['model__penalty']\n",
    ")\n",
    "\n",
    "# Fit the final model on the entire dataset\n",
    "final_model.fit(X, y) #90% sencer de les dades, ouput de l'outlier detection notebook\n",
    "\n",
    "# Predict using the final model\n",
    "y_pred = final_model.predict(X_test)\n",
    "\n",
    "# Evaluate the model\n",
    "accuracy = accuracy_score(y_test, y_pred)\n",
    "precision = precision_score(y_test, y_pred)\n",
    "recall = recall_score(y_test, y_pred)\n",
    "f1 = f1_score(y_test, y_pred)\n",
    "roc_auc = roc_auc_score(y_test, y_pred)\n",
    "\n",
    "print(f\"Accuracy: {accuracy:.3f}\")\n",
    "print(f\"Precision: {precision:.3f}\")\n",
    "print(f\"Recall: {recall:.3f}\")\n",
    "print(f\"F1 Score: {f1:.3f}\")\n",
    "print(f\"ROC-AUC Score: {roc_auc:.3f}\")\n",
    "\n",
    "# Save the final model if needed\n",
    "import joblib\n",
    "joblib.dump(final_model, 'final_logistic_regression_model.pkl')"
   ]
  },
  {
   "cell_type": "markdown",
   "id": "72599c4f-02c5-445a-a22e-b8edd3f965af",
   "metadata": {},
   "source": [
    "### RANDOM FOREST"
   ]
  },
  {
   "cell_type": "code",
   "execution_count": 14,
   "id": "30748730-220e-4912-b3b9-92a6b5fa3efd",
   "metadata": {},
   "outputs": [
    {
     "name": "stdout",
     "output_type": "stream",
     "text": [
      "Final Best Hyperparameters: {'model__max_depth': 20, 'model__min_samples_leaf': 1, 'model__min_samples_split': 2, 'model__n_estimators': 200}\n",
      "Nested CV Accuracy: 0.995 ± 0.000\n"
     ]
    }
   ],
   "source": [
    "from sklearn.ensemble import RandomForestClassifier\n",
    "from sklearn.model_selection import KFold, GridSearchCV\n",
    "from sklearn.pipeline import Pipeline\n",
    "from sklearn.preprocessing import RobustScaler\n",
    "from collections import defaultdict\n",
    "import numpy as np\n",
    "\n",
    "# Dictionary to store the best hyperparameters from each outer fold\n",
    "params_scores = defaultdict(list)\n",
    "\n",
    "# Define the outer cross-validation (outer loop) - 5 folds\n",
    "outer_cv = KFold(n_splits=5, shuffle=True, random_state=42)\n",
    "\n",
    "# Define the inner cross-validation (inner loop) - 3 folds\n",
    "inner_cv = KFold(n_splits=3, shuffle=True, random_state=42)\n",
    "\n",
    "# Define the model and hyperparameter grid for Random Forest\n",
    "model = RandomForestClassifier(random_state=42)\n",
    "param_grid = {\n",
    "    'model__n_estimators': [50, 100, 200],  # Number of trees in the forest\n",
    "    'model__max_depth': [None, 10, 20, 30], # Maximum depth of each tree\n",
    "    'model__min_samples_split': [2, 5, 10], # Minimum samples required to split a node\n",
    "    'model__min_samples_leaf': [1, 2, 4],   # Minimum samples required at each leaf node\n",
    "}\n",
    "\n",
    "# To store the results from the outer loop\n",
    "outer_scores = []\n",
    "\n",
    "# Outer loop: iterating through each fold of the outer cross-validation\n",
    "for train_idx, test_idx in outer_cv.split(X):\n",
    "    # Split the data into training and testing sets for the current outer fold\n",
    "    X_train, X_test = X[train_idx], X[test_idx]\n",
    "    y_train, y_test = y[train_idx], y[test_idx]\n",
    "    \n",
    "    # Create a pipeline to standardize the data and fit the random forest model\n",
    "    pipeline = Pipeline([\n",
    "        ('scaler', RobustScaler()),              # to avoid data leakage \n",
    "        ('model', RandomForestClassifier(random_state=42))\n",
    "    ])\n",
    "    \n",
    "    # Perform grid search within the inner loop\n",
    "    grid_search = GridSearchCV(estimator=pipeline, param_grid=param_grid, \n",
    "                               cv=inner_cv, scoring='accuracy', n_jobs=-1)\n",
    "    grid_search.fit(X_train, y_train)\n",
    "\n",
    "    # Store the best hyperparameters and their score for this fold\n",
    "    best_params = grid_search.best_params_\n",
    "    best_score = grid_search.best_score_\n",
    "    for param, value in best_params.items():\n",
    "        params_scores[param].append(value)\n",
    "    \n",
    "    # Evaluate the best model found by GridSearchCV on the outer test set\n",
    "    best_model = grid_search.best_estimator_\n",
    "    outer_score = best_model.score(X_test, y_test)\n",
    "    outer_scores.append(outer_score)\n",
    "\n",
    "# Calculate the most frequent set of hyperparameters\n",
    "final_best_params = {param: max(set(values), key=values.count) for param, values in params_scores.items()}\n",
    "\n",
    "print(f\"Final Best Hyperparameters: {final_best_params}\")\n",
    "# Calculate the mean and standard deviation of the outer scores\n",
    "mean_score = np.mean(outer_scores)\n",
    "std_score = np.std(outer_scores)\n",
    "\n",
    "print(f\"Nested CV Accuracy: {mean_score:.3f} ± {std_score:.3f}\")\n"
   ]
  },
  {
   "cell_type": "code",
   "execution_count": 15,
   "id": "73345fb5-2197-4be5-91d6-ae0a6c8d51c1",
   "metadata": {},
   "outputs": [
    {
     "data": {
      "text/plain": [
       "[0.9945544554455445,\n",
       " 0.995049504950495,\n",
       " 0.996039603960396,\n",
       " 0.9952970297029703,\n",
       " 0.995296447580146]"
      ]
     },
     "execution_count": 15,
     "metadata": {},
     "output_type": "execute_result"
    }
   ],
   "source": [
    "outer_scores"
   ]
  },
  {
   "cell_type": "code",
   "execution_count": 16,
   "id": "4f2659cd-04e3-41eb-b32b-ca0e0fb5d661",
   "metadata": {},
   "outputs": [
    {
     "data": {
      "text/plain": [
       "defaultdict(list,\n",
       "            {'model__max_depth': [None, 20, 20, 20, 20],\n",
       "             'model__min_samples_leaf': [1, 1, 1, 1, 1],\n",
       "             'model__min_samples_split': [2, 5, 2, 2, 2],\n",
       "             'model__n_estimators': [200, 50, 100, 50, 200]})"
      ]
     },
     "execution_count": 16,
     "metadata": {},
     "output_type": "execute_result"
    }
   ],
   "source": [
    "params_scores"
   ]
  },
  {
   "cell_type": "code",
   "execution_count": 17,
   "id": "393ac59b-b30d-4a7e-8a9c-2b9791855dbe",
   "metadata": {
    "scrolled": true
   },
   "outputs": [
    {
     "name": "stdout",
     "output_type": "stream",
     "text": [
      "Accuracy: 0.521\n",
      "Precision: 0.000\n",
      "Recall: 0.000\n",
      "F1 Score: 0.000\n",
      "ROC-AUC Score: 0.500\n"
     ]
    },
    {
     "name": "stderr",
     "output_type": "stream",
     "text": [
      "/Users/paucolomercoll/venv/lib/python3.13/site-packages/sklearn/metrics/_classification.py:1565: UndefinedMetricWarning: Precision is ill-defined and being set to 0.0 due to no predicted samples. Use `zero_division` parameter to control this behavior.\n",
      "  _warn_prf(average, modifier, f\"{metric.capitalize()} is\", len(result))\n"
     ]
    },
    {
     "data": {
      "text/plain": [
       "['final_random_forest_model.pkl']"
      ]
     },
     "execution_count": 17,
     "metadata": {},
     "output_type": "execute_result"
    }
   ],
   "source": [
    "X_test = pd.read_csv('data/News_dataset/X_test_scaled.csv')\n",
    "y_test = pd.read_csv('data/News_dataset/y_test.csv')\n",
    "\n",
    "X_test = X_test.values  # Converts the features to a numpy array\n",
    "y_test = y_test.values  # Converts the target to a numpy array\n",
    "\n",
    "# Convert 'Fake' to 0 and 'True' to 1\n",
    "y_test = np.where(y_test == 'True', 1, 0)\n",
    "\n",
    "\n",
    "from sklearn.ensemble import RandomForestClassifier\n",
    "from sklearn.metrics import (\n",
    "    accuracy_score,\n",
    "    precision_score,\n",
    "    recall_score,\n",
    "    f1_score,\n",
    "    roc_auc_score,\n",
    "    confusion_matrix\n",
    ")\n",
    "import joblib\n",
    "\n",
    "# Define the final model using the best hyperparameters found\n",
    "final_model = RandomForestClassifier(\n",
    "    n_estimators=final_best_params['model__n_estimators'],\n",
    "    max_depth=final_best_params['model__max_depth'],\n",
    "    min_samples_split=final_best_params['model__min_samples_split'],\n",
    "    min_samples_leaf=final_best_params['model__min_samples_leaf'],\n",
    "    random_state=42\n",
    ")\n",
    "\n",
    "# Fit the final model on the entire training dataset\n",
    "final_model.fit(X, y)\n",
    "\n",
    "# Predict using the final model on the test dataset\n",
    "y_pred = final_model.predict(X_test)\n",
    "\n",
    "# Evaluate the model\n",
    "accuracy = accuracy_score(y_test, y_pred)\n",
    "precision = precision_score(y_test, y_pred)\n",
    "recall = recall_score(y_test, y_pred)\n",
    "f1 = f1_score(y_test, y_pred)\n",
    "roc_auc = roc_auc_score(y_test, y_pred)\n",
    "\n",
    "print(f\"Accuracy: {accuracy:.3f}\")\n",
    "print(f\"Precision: {precision:.3f}\")\n",
    "print(f\"Recall: {recall:.3f}\")\n",
    "print(f\"F1 Score: {f1:.3f}\")\n",
    "print(f\"ROC-AUC Score: {roc_auc:.3f}\")\n",
    "\n",
    "# Save the final model\n",
    "joblib.dump(final_model, 'final_random_forest_model.pkl')\n"
   ]
  },
  {
   "cell_type": "markdown",
   "id": "a32506ca-818d-4cd1-ab46-96d61cf12ef6",
   "metadata": {},
   "source": [
    "### SVM"
   ]
  },
  {
   "cell_type": "code",
   "execution_count": 18,
   "id": "3cee2cdd-4c17-478e-99b9-674d0975643b",
   "metadata": {},
   "outputs": [
    {
     "name": "stdout",
     "output_type": "stream",
     "text": [
      "Final Best Hyperparameters: {'model__C': 10, 'model__gamma': 'scale', 'model__kernel': 'rbf'}\n",
      "Nested CV Accuracy: 0.994 ± 0.001\n"
     ]
    }
   ],
   "source": [
    "from sklearn.svm import SVC\n",
    "from sklearn.model_selection import KFold, GridSearchCV\n",
    "from sklearn.pipeline import Pipeline\n",
    "from sklearn.preprocessing import RobustScaler\n",
    "from collections import defaultdict\n",
    "import numpy as np\n",
    "\n",
    "# Dictionary to store the best hyperparameters from each outer fold\n",
    "params_scores = defaultdict(list)\n",
    "\n",
    "# Define the outer cross-validation (outer loop) - 5 folds\n",
    "outer_cv = KFold(n_splits=5, shuffle=True, random_state=42)\n",
    "\n",
    "# Define the inner cross-validation (inner loop) - 3 folds\n",
    "inner_cv = KFold(n_splits=3, shuffle=True, random_state=42)\n",
    "\n",
    "# Define the model and hyperparameter grid for SVM\n",
    "model = SVC()\n",
    "param_grid = {\n",
    "    'model__C': [0.1, 1, 10, 100],            # Regularization parameter\n",
    "    'model__kernel': ['linear', 'rbf'],       # Kernel type\n",
    "    'model__gamma': ['scale', 'auto']         # Kernel coefficient\n",
    "}\n",
    "\n",
    "# To store the results from the outer loop\n",
    "outer_scores = []\n",
    "\n",
    "# Outer loop: iterating through each fold of the outer cross-validation\n",
    "for train_idx, test_idx in outer_cv.split(X):\n",
    "    # Split the data into training and testing sets for the current outer fold\n",
    "    X_train, X_test = X[train_idx], X[test_idx]\n",
    "    y_train, y_test = y[train_idx], y[test_idx]\n",
    "    \n",
    "    # Create a pipeline to standardize the data and fit the SVM model\n",
    "    pipeline = Pipeline([\n",
    "        ('scaler', RobustScaler()),              # Standardize features\n",
    "        ('model', SVC())\n",
    "    ])\n",
    "    \n",
    "    # Perform grid search within the inner loop\n",
    "    grid_search = GridSearchCV(estimator=pipeline, param_grid=param_grid, \n",
    "                               cv=inner_cv, scoring='accuracy', n_jobs=-1)\n",
    "    grid_search.fit(X_train, y_train)\n",
    "\n",
    "    # Store the best hyperparameters and their score for this fold\n",
    "    best_params = grid_search.best_params_\n",
    "    best_score = grid_search.best_score_\n",
    "    for param, value in best_params.items():\n",
    "        params_scores[param].append(value)\n",
    "    \n",
    "    # Evaluate the best model found by GridSearchCV on the outer test set\n",
    "    best_model = grid_search.best_estimator_\n",
    "    outer_score = best_model.score(X_test, y_test)\n",
    "    outer_scores.append(outer_score)\n",
    "\n",
    "# Calculate the most frequent set of hyperparameters\n",
    "final_best_params = {param: max(set(values), key=values.count) for param, values in params_scores.items()}\n",
    "\n",
    "print(f\"Final Best Hyperparameters: {final_best_params}\")\n",
    "# Calculate the mean and standard deviation of the outer scores\n",
    "mean_score = np.mean(outer_scores)\n",
    "std_score = np.std(outer_scores)\n",
    "\n",
    "print(f\"Nested CV Accuracy: {mean_score:.3f} ± {std_score:.3f}\")\n"
   ]
  },
  {
   "cell_type": "code",
   "execution_count": 19,
   "id": "8fbc752f-7135-430f-9c09-41d35fde90a9",
   "metadata": {},
   "outputs": [
    {
     "data": {
      "text/plain": [
       "[0.9929455445544555,\n",
       " 0.9955445544554455,\n",
       " 0.995049504950495,\n",
       " 0.9936881188118812,\n",
       " 0.9950488921896274]"
      ]
     },
     "execution_count": 19,
     "metadata": {},
     "output_type": "execute_result"
    }
   ],
   "source": [
    "outer_scores"
   ]
  },
  {
   "cell_type": "code",
   "execution_count": 20,
   "id": "98a665c7-d027-4833-8c98-9596b0a9763e",
   "metadata": {},
   "outputs": [
    {
     "data": {
      "text/plain": [
       "defaultdict(list,\n",
       "            {'model__C': [100, 10, 10, 100, 10],\n",
       "             'model__gamma': ['scale', 'scale', 'scale', 'scale', 'scale'],\n",
       "             'model__kernel': ['rbf', 'rbf', 'rbf', 'rbf', 'rbf']})"
      ]
     },
     "execution_count": 20,
     "metadata": {},
     "output_type": "execute_result"
    }
   ],
   "source": [
    "params_scores"
   ]
  },
  {
   "cell_type": "code",
   "execution_count": 21,
   "id": "5f5b5805-42f6-4842-89f6-25b2d2d361c0",
   "metadata": {},
   "outputs": [
    {
     "name": "stdout",
     "output_type": "stream",
     "text": [
      "Accuracy: 0.997\n",
      "Precision: 0.996\n",
      "Recall: 0.999\n",
      "F1 Score: 0.997\n",
      "ROC-AUC Score: 0.997\n"
     ]
    },
    {
     "data": {
      "text/plain": [
       "['final_svm_model.pkl']"
      ]
     },
     "execution_count": 21,
     "metadata": {},
     "output_type": "execute_result"
    }
   ],
   "source": [
    "from sklearn.ensemble import RandomForestClassifier\n",
    "from sklearn.metrics import (\n",
    "    accuracy_score,\n",
    "    precision_score,\n",
    "    recall_score,\n",
    "    f1_score,\n",
    "    roc_auc_score,\n",
    "    confusion_matrix\n",
    ")\n",
    "import joblib\n",
    "\n",
    "# Define the final model using the best hyperparameters found\n",
    "final_model = SVC(\n",
    "    C=final_best_params['model__C'],\n",
    "    kernel=final_best_params['model__kernel'],\n",
    "    gamma=final_best_params['model__gamma'],\n",
    "    probability=True,  # Enable probability estimates for ROC-AUC calculation\n",
    "    random_state=42\n",
    ")\n",
    "\n",
    "# Fit the final model on the entire training dataset\n",
    "final_model.fit(X, y)\n",
    "\n",
    "# Predict using the final model on the test dataset\n",
    "y_pred = final_model.predict(X_test)\n",
    "\n",
    "# Evaluate the model\n",
    "accuracy = accuracy_score(y_test, y_pred)\n",
    "precision = precision_score(y_test, y_pred)\n",
    "recall = recall_score(y_test, y_pred)\n",
    "f1 = f1_score(y_test, y_pred)\n",
    "roc_auc = roc_auc_score(y_test, y_pred)\n",
    "\n",
    "print(f\"Accuracy: {accuracy:.3f}\")\n",
    "print(f\"Precision: {precision:.3f}\")\n",
    "print(f\"Recall: {recall:.3f}\")\n",
    "print(f\"F1 Score: {f1:.3f}\")\n",
    "print(f\"ROC-AUC Score: {roc_auc:.3f}\")\n",
    "\n",
    "# Save the final model\n",
    "joblib.dump(final_model, 'final_svm_model.pkl')"
   ]
  },
  {
   "cell_type": "markdown",
   "id": "f0c58737-edd2-4f28-ab1a-731285f2a538",
   "metadata": {},
   "source": [
    "## Evaluate Model"
   ]
  },
  {
   "cell_type": "code",
   "execution_count": 22,
   "id": "b415d531-23d6-4c58-b7a5-a5f143599f0c",
   "metadata": {},
   "outputs": [],
   "source": [
    "# now we take the 10% left of data that we left untouched and saved as X_test (y_test)\n",
    "X_test = pd.read_csv('data/News_dataset/X_test.csv')\n",
    "y_test = pd.read_csv('data/News_dataset/y_test.csv')\n",
    "\n",
    "#load the trained model\n",
    "model = joblib.load('final_svm_model.pkl')\n",
    "\n",
    "#prepare test dataset\n",
    "# 1) scale data with the scaler we used for our training data\n",
    "robust_scaler = joblib.load('robust_scaler.pkl') \n",
    "\n",
    "X_test_scaled = robust_scaler.transform(X_test)\n",
    "\n",
    "# 2) same preprocessing as with the training data\n",
    "#convert to 1D\n",
    "y_test = y_test['label']\n",
    "\n",
    "y_test = y_test.values  # Converts the target to a numpy array\n",
    "\n",
    "# Convert 'Fake' to 0 and 'True' to 1\n",
    "y_test = np.where(y_test == 'True', 1, 0)\n",
    "\n",
    "#get predictions\n",
    "y_pred = model.predict(X_test_scaled)"
   ]
  },
  {
   "cell_type": "code",
   "execution_count": 23,
   "id": "cf29562d-d1a8-4124-b313-ecfbd6cd4646",
   "metadata": {},
   "outputs": [
    {
     "data": {
      "text/plain": [
       "(4489, 20)"
      ]
     },
     "execution_count": 23,
     "metadata": {},
     "output_type": "execute_result"
    }
   ],
   "source": [
    "X_test.shape"
   ]
  },
  {
   "cell_type": "code",
   "execution_count": 24,
   "id": "6dd36784-77a6-4d48-ae5b-a9deeebaf8a6",
   "metadata": {},
   "outputs": [
    {
     "data": {
      "text/plain": [
       "Index(['text_length', 'title_length', 'length_phrases_no_punctuation_text',\n",
       "       'length_phrases_no_punctuation_title', 'qtt_numbers', 'qtt_noms_propis',\n",
       "       'qtt_punt', 'stopwords', 'emotional', 'repeated', 'capital_title',\n",
       "       'reference_count', 'word_length', 'sentiment_polarity',\n",
       "       'subjectivity_score', 'avg_sentence_length', 'character_count',\n",
       "       'exclamation_mark_count', 'question_mark_count',\n",
       "       'capitalized_word_count'],\n",
       "      dtype='object')"
      ]
     },
     "execution_count": 24,
     "metadata": {},
     "output_type": "execute_result"
    }
   ],
   "source": [
    "X_test.columns"
   ]
  },
  {
   "cell_type": "code",
   "execution_count": 25,
   "id": "f3e05600-d501-4d2c-b5de-ca9e08775f4e",
   "metadata": {},
   "outputs": [
    {
     "data": {
      "text/plain": [
       "0.9928714635776342"
      ]
     },
     "execution_count": 25,
     "metadata": {},
     "output_type": "execute_result"
    }
   ],
   "source": [
    "accuracy_score(y_test, y_pred)"
   ]
  },
  {
   "cell_type": "code",
   "execution_count": 26,
   "id": "67ad7e56-5b77-4ce9-b415-6c93ed504fb2",
   "metadata": {},
   "outputs": [
    {
     "data": {
      "text/plain": [
       "array([1, 0, 1, ..., 0, 0, 0], shape=(4489,))"
      ]
     },
     "execution_count": 26,
     "metadata": {},
     "output_type": "execute_result"
    }
   ],
   "source": [
    "y_test"
   ]
  },
  {
   "cell_type": "code",
   "execution_count": 27,
   "id": "cec385f4-02a0-432e-9e93-3911aef60385",
   "metadata": {},
   "outputs": [
    {
     "data": {
      "text/plain": [
       "array([1, 0, 1, ..., 0, 0, 0], shape=(4489,))"
      ]
     },
     "execution_count": 27,
     "metadata": {},
     "output_type": "execute_result"
    }
   ],
   "source": [
    "y_pred"
   ]
  },
  {
   "cell_type": "code",
   "execution_count": 28,
   "id": "55be1677-b77e-434c-acdb-c6b999d6e08e",
   "metadata": {},
   "outputs": [
    {
     "data": {
      "image/png": "[encoded data removed]",
      "text/plain": [
       "<Figure size 800x600 with 2 Axes>"
      ]
     },
     "metadata": {},
     "output_type": "display_data"
    }
   ],
   "source": [
    "import seaborn as sns\n",
    "\n",
    "conf_matrix = confusion_matrix(y_test, y_pred)\n",
    "\n",
    "# Plotting the confusion matrix\n",
    "plt.figure(figsize=(8, 6))\n",
    "sns.heatmap(conf_matrix, annot=True, fmt='d', cmap='Blues', \n",
    "            xticklabels=['Predicted Fake', 'Predicted True'],\n",
    "            yticklabels=['Actual Fake', 'Actual True'])\n",
    "plt.xlabel('Predicted Label')\n",
    "plt.ylabel('True Label')\n",
    "plt.title('Confusion Matrix')\n",
    "plt.show()"
   ]
  },
  {
   "cell_type": "markdown",
   "id": "a6c2ae09-926b-419c-a1df-112fab239175",
   "metadata": {},
   "source": [
    "### the reults shows as that the model generelizes good in terms of accuracy with unseen data. Depedning on the context we were supposed to apply this model, we could optimize it or retrain it in order to minimize the number of false positives(specificity)\n",
    "\n",
    "Next step, and final is to build a fastAPI to use the model for inference in new instances."
   ]
  }
 ],
 "metadata": {
  "kernelspec": {
   "display_name": "Python 3 (ipykernel)",
   "language": "python",
   "name": "python3"
  },
  "language_info": {
   "codemirror_mode": {
    "name": "ipython",
    "version": 3
   },
   "file_extension": ".py",
   "mimetype": "text/x-python",
   "name": "python",
   "nbconvert_exporter": "python",
   "pygments_lexer": "ipython3",
   "version": "3.13.1"
  }
 },
 "nbformat": 4,
 "nbformat_minor": 5
}
