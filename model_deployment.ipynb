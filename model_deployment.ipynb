{
 "cells": [
  {
   "cell_type": "markdown",
   "id": "57e06244-8661-474a-ad2a-f2d16e2242e0",
   "metadata": {},
   "source": [
    "#passar d un text i títiol a 13 columnes"
   ]
  },
  {
   "cell_type": "code",
   "execution_count": null,
   "id": "916dacf2-c4b4-4c38-bba7-4748081ddc02",
   "metadata": {},
   "outputs": [],
   "source": []
  }
 ],
 "metadata": {
  "kernelspec": {
   "display_name": "Python 3 (ipykernel)",
   "language": "python",
   "name": "python3"
  },
  "language_info": {
   "codemirror_mode": {
    "name": "ipython",
    "version": 3
   },
   "file_extension": ".py",
   "mimetype": "text/x-python",
   "name": "python",
   "nbconvert_exporter": "python",
   "pygments_lexer": "ipython3",
   "version": "3.12.4"
  }
 },
 "nbformat": 4,
 "nbformat_minor": 5
}
